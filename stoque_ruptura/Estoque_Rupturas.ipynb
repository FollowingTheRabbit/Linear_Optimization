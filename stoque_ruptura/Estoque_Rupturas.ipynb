{
 "cells": [
  {
   "cell_type": "code",
   "execution_count": 1,
   "metadata": {},
   "outputs": [],
   "source": [
    "import numpy as np\n",
    "import pandas as pd \n",
    "import pyomo.environ as pyo"
   ]
  },
  {
   "cell_type": "code",
   "execution_count": 2,
   "metadata": {},
   "outputs": [],
   "source": [
    "lojas = pd.read_excel('./Estoque_Ruptura.xlsx', sheet_name='Lojas')\n",
    "disp_sku = pd.read_excel('./Estoque_Ruptura.xlsx', sheet_name='Disponibilidade_SKU')\n",
    "lojas_sku = pd.read_excel('./Estoque_Ruptura.xlsx', sheet_name='Loja_SKU')\n",
    "prob_rupt = pd.read_excel('./Estoque_Ruptura.xlsx', sheet_name='Prob_Rup')"
   ]
  },
  {
   "cell_type": "code",
   "execution_count": 3,
   "metadata": {},
   "outputs": [
    {
     "data": {
      "text/html": [
       "<div>\n",
       "<style scoped>\n",
       "    .dataframe tbody tr th:only-of-type {\n",
       "        vertical-align: middle;\n",
       "    }\n",
       "\n",
       "    .dataframe tbody tr th {\n",
       "        vertical-align: top;\n",
       "    }\n",
       "\n",
       "    .dataframe thead th {\n",
       "        text-align: right;\n",
       "    }\n",
       "</style>\n",
       "<table border=\"1\" class=\"dataframe\">\n",
       "  <thead>\n",
       "    <tr style=\"text-align: right;\">\n",
       "      <th></th>\n",
       "      <th>Loja</th>\n",
       "      <th>SKU</th>\n",
       "      <th>NIVEL_RUPTURA</th>\n",
       "      <th>QUANTIDADE_STOCADA</th>\n",
       "      <th>PROBABILIDADE_RUPTURA</th>\n",
       "    </tr>\n",
       "  </thead>\n",
       "  <tbody>\n",
       "    <tr>\n",
       "      <th>0</th>\n",
       "      <td>ASSAI</td>\n",
       "      <td>Mimmo Plus Suave</td>\n",
       "      <td>1</td>\n",
       "      <td>5</td>\n",
       "      <td>92</td>\n",
       "    </tr>\n",
       "    <tr>\n",
       "      <th>1</th>\n",
       "      <td>ASSAI</td>\n",
       "      <td>Mimmo Plus Suave</td>\n",
       "      <td>2</td>\n",
       "      <td>13</td>\n",
       "      <td>81</td>\n",
       "    </tr>\n",
       "    <tr>\n",
       "      <th>2</th>\n",
       "      <td>ASSAI</td>\n",
       "      <td>Mimmo Plus Suave</td>\n",
       "      <td>3</td>\n",
       "      <td>26</td>\n",
       "      <td>62</td>\n",
       "    </tr>\n",
       "    <tr>\n",
       "      <th>3</th>\n",
       "      <td>ASSAI</td>\n",
       "      <td>Mimmo Plus Suave</td>\n",
       "      <td>4</td>\n",
       "      <td>39</td>\n",
       "      <td>32</td>\n",
       "    </tr>\n",
       "    <tr>\n",
       "      <th>4</th>\n",
       "      <td>ASSAI</td>\n",
       "      <td>Mimmo Plus Suave</td>\n",
       "      <td>5</td>\n",
       "      <td>50</td>\n",
       "      <td>22</td>\n",
       "    </tr>\n",
       "    <tr>\n",
       "      <th>...</th>\n",
       "      <td>...</td>\n",
       "      <td>...</td>\n",
       "      <td>...</td>\n",
       "      <td>...</td>\n",
       "      <td>...</td>\n",
       "    </tr>\n",
       "    <tr>\n",
       "      <th>79</th>\n",
       "      <td>WALLMART</td>\n",
       "      <td>Report Premium</td>\n",
       "      <td>2</td>\n",
       "      <td>10</td>\n",
       "      <td>84</td>\n",
       "    </tr>\n",
       "    <tr>\n",
       "      <th>80</th>\n",
       "      <td>WALLMART</td>\n",
       "      <td>Report Premium</td>\n",
       "      <td>3</td>\n",
       "      <td>21</td>\n",
       "      <td>69</td>\n",
       "    </tr>\n",
       "    <tr>\n",
       "      <th>81</th>\n",
       "      <td>WALLMART</td>\n",
       "      <td>Report Premium</td>\n",
       "      <td>4</td>\n",
       "      <td>31</td>\n",
       "      <td>47</td>\n",
       "    </tr>\n",
       "    <tr>\n",
       "      <th>82</th>\n",
       "      <td>WALLMART</td>\n",
       "      <td>Report Premium</td>\n",
       "      <td>5</td>\n",
       "      <td>39</td>\n",
       "      <td>22</td>\n",
       "    </tr>\n",
       "    <tr>\n",
       "      <th>83</th>\n",
       "      <td>WALLMART</td>\n",
       "      <td>Report Premium</td>\n",
       "      <td>6</td>\n",
       "      <td>42</td>\n",
       "      <td>1</td>\n",
       "    </tr>\n",
       "  </tbody>\n",
       "</table>\n",
       "<p>84 rows × 5 columns</p>\n",
       "</div>"
      ],
      "text/plain": [
       "        Loja               SKU  NIVEL_RUPTURA  QUANTIDADE_STOCADA  \\\n",
       "0      ASSAI  Mimmo Plus Suave              1                   5   \n",
       "1      ASSAI  Mimmo Plus Suave              2                  13   \n",
       "2      ASSAI  Mimmo Plus Suave              3                  26   \n",
       "3      ASSAI  Mimmo Plus Suave              4                  39   \n",
       "4      ASSAI  Mimmo Plus Suave              5                  50   \n",
       "..       ...               ...            ...                 ...   \n",
       "79  WALLMART    Report Premium              2                  10   \n",
       "80  WALLMART    Report Premium              3                  21   \n",
       "81  WALLMART    Report Premium              4                  31   \n",
       "82  WALLMART    Report Premium              5                  39   \n",
       "83  WALLMART    Report Premium              6                  42   \n",
       "\n",
       "    PROBABILIDADE_RUPTURA  \n",
       "0                      92  \n",
       "1                      81  \n",
       "2                      62  \n",
       "3                      32  \n",
       "4                      22  \n",
       "..                    ...  \n",
       "79                     84  \n",
       "80                     69  \n",
       "81                     47  \n",
       "82                     22  \n",
       "83                      1  \n",
       "\n",
       "[84 rows x 5 columns]"
      ]
     },
     "execution_count": 3,
     "metadata": {},
     "output_type": "execute_result"
    }
   ],
   "source": [
    "disp_sku\n",
    "lojas_sku\n",
    "prob_rupt"
   ]
  },
  {
   "cell_type": "code",
   "execution_count": 4,
   "metadata": {},
   "outputs": [],
   "source": [
    "model = pyo.ConcreteModel()"
   ]
  },
  {
   "cell_type": "markdown",
   "metadata": {},
   "source": [
    "### Conjuntos"
   ]
  },
  {
   "cell_type": "code",
   "execution_count": 5,
   "metadata": {},
   "outputs": [],
   "source": [
    "list_lojas = lojas.Lojas.unique()\n",
    "model.lojas = pyo.Set(initialize=list_lojas, doc=\"Lista de lojas\")"
   ]
  },
  {
   "cell_type": "code",
   "execution_count": 6,
   "metadata": {},
   "outputs": [],
   "source": [
    "list_sku = disp_sku.SKU.unique()\n",
    "model.sku = pyo.Set(initialize=list_sku, doc=\"Lista de SKU's\")"
   ]
  },
  {
   "cell_type": "code",
   "execution_count": 7,
   "metadata": {},
   "outputs": [],
   "source": [
    "#list_lojasXsku = \n",
    "list_lojasXsku = [(row['Loja'], row[\"SKU\"]) for indx, row in lojas_sku.iterrows()]\n",
    "list_lojasXsku\n",
    "model.lojXsku = pyo.Set(initialize=list_lojasXsku, doc=\"Lojas por SKU\")"
   ]
  },
  {
   "cell_type": "code",
   "execution_count": 8,
   "metadata": {},
   "outputs": [],
   "source": [
    "#niv_rupt \n",
    "list_niv_rupt = prob_rupt.NIVEL_RUPTURA.unique()\n",
    "list_niv_rupt\n",
    "model.niv_rup = pyo.Set(initialize=list_niv_rupt, doc=\"Níveis de Ruptura\")"
   ]
  },
  {
   "cell_type": "code",
   "execution_count": 9,
   "metadata": {},
   "outputs": [],
   "source": [
    "list_lojaXskuXniv_rupt = [(row['Loja'], row['SKU'], row['NIVEL_RUPTURA']) for _, row in prob_rupt.iterrows()]\n",
    "list_lojaXskuXniv_rupt\n",
    "model.LSKUR = pyo.Set(initialize=list_lojaXskuXniv_rupt, doc=\"Lojas X SKU X Níve de Ruptura\")"
   ]
  },
  {
   "cell_type": "markdown",
   "metadata": {},
   "source": [
    "### Parâmetros"
   ]
  },
  {
   "cell_type": "code",
   "execution_count": 10,
   "metadata": {},
   "outputs": [
    {
     "data": {
      "text/plain": [
       "{'SKU': {0: 'Mimmo Plus Suave', 1: 'Report Premium'},\n",
       " 'Quantidade disponivel': {0: 250, 1: 150}}"
      ]
     },
     "execution_count": 10,
     "metadata": {},
     "output_type": "execute_result"
    }
   ],
   "source": [
    "disp_sku.to_dict()"
   ]
  },
  {
   "cell_type": "code",
   "execution_count": 11,
   "metadata": {},
   "outputs": [],
   "source": [
    "def df_to_dict(df, indx_col, value_col):\n",
    "    all_cols = indx_col.copy()\n",
    "    all_cols.append(value_col)\n",
    "\n",
    "    return df[all_cols].set_index(indx_col).to_dict()[value_col]"
   ]
  },
  {
   "cell_type": "code",
   "execution_count": 12,
   "metadata": {},
   "outputs": [
    {
     "data": {
      "text/plain": [
       "{'Mimmo Plus Suave': 250, 'Report Premium': 150}"
      ]
     },
     "execution_count": 12,
     "metadata": {},
     "output_type": "execute_result"
    }
   ],
   "source": [
    "disp_dict = df_to_dict(df=disp_sku, indx_col=['SKU'], value_col=\"Quantidade disponivel\")\n",
    "disp_dict"
   ]
  },
  {
   "cell_type": "code",
   "execution_count": 13,
   "metadata": {},
   "outputs": [
    {
     "name": "stdout",
     "output_type": "stream",
     "text": [
      "sku : Lista de SKU's\n",
      "    Size=1, Index=None, Ordered=Insertion\n",
      "    Key  : Dimen : Domain : Size : Members\n",
      "    None :     1 :    Any :    2 : {'Mimmo Plus Suave', 'Report Premium'}\n"
     ]
    }
   ],
   "source": [
    "model.sku.pprint()"
   ]
  },
  {
   "cell_type": "code",
   "execution_count": 14,
   "metadata": {},
   "outputs": [],
   "source": [
    "model.disp = pyo.Param(\n",
    "    model.sku,\n",
    "    initialize=disp_dict,\n",
    "    within=pyo.NonNegativeReals,\n",
    "    doc=\"disponibilidade de SKU's\"    \n",
    ")"
   ]
  },
  {
   "cell_type": "code",
   "execution_count": 15,
   "metadata": {},
   "outputs": [
    {
     "data": {
      "text/plain": [
       "Index(['Loja', 'SKU', 'Capacidade Maxima', 'Probabilidade Aceitavel'], dtype='object')"
      ]
     },
     "execution_count": 15,
     "metadata": {},
     "output_type": "execute_result"
    }
   ],
   "source": [
    "lojas_sku.columns"
   ]
  },
  {
   "cell_type": "code",
   "execution_count": 16,
   "metadata": {},
   "outputs": [],
   "source": [
    "lojas_sku_dict = df_to_dict(df=lojas_sku, indx_col=['Loja','SKU'], value_col=\"Capacidade Maxima\")"
   ]
  },
  {
   "cell_type": "code",
   "execution_count": 17,
   "metadata": {},
   "outputs": [
    {
     "data": {
      "text/plain": [
       "{('ASSAI', 'Mimmo Plus Suave'): 53,\n",
       " ('EXTRA', 'Mimmo Plus Suave'): 80,\n",
       " ('G. BARBOSA', 'Mimmo Plus Suave'): 20,\n",
       " ('MERCANTIL RODRIGUES', 'Mimmo Plus Suave'): 55,\n",
       " ('PAO DE AÇUCAR', 'Mimmo Plus Suave'): 40,\n",
       " ('TODO DIA', 'Mimmo Plus Suave'): 33,\n",
       " ('WALLMART', 'Mimmo Plus Suave'): 82,\n",
       " ('ASSAI', 'Report Premium'): 37,\n",
       " ('BOM PRECIO', 'Report Premium'): 37,\n",
       " ('EXTRA', 'Report Premium'): 52,\n",
       " ('G. BARBOSA', 'Report Premium'): 53,\n",
       " ('MERCANTIL RODRIGUES', 'Report Premium'): 29,\n",
       " ('PAO DE AÇUCAR', 'Report Premium'): 24,\n",
       " ('WALLMART', 'Report Premium'): 42}"
      ]
     },
     "execution_count": 17,
     "metadata": {},
     "output_type": "execute_result"
    }
   ],
   "source": [
    "lojas_sku_dict"
   ]
  },
  {
   "cell_type": "code",
   "execution_count": 18,
   "metadata": {},
   "outputs": [],
   "source": [
    "model.CapMaxLS = pyo.Param(\n",
    "    model.lojas,\n",
    "    model.sku,\n",
    "    initialize=lojas_sku_dict,\n",
    "    within=pyo.NonNegativeReals,\n",
    "    doc=\"Capacidade máxima da loja\"\n",
    ")"
   ]
  },
  {
   "cell_type": "code",
   "execution_count": 19,
   "metadata": {},
   "outputs": [],
   "source": [
    "lojas_sku\n",
    "prob_aceitavel_dict = df_to_dict(df=lojas_sku, indx_col=['Loja','SKU'], value_col=\"Probabilidade Aceitavel\")"
   ]
  },
  {
   "cell_type": "code",
   "execution_count": 20,
   "metadata": {},
   "outputs": [],
   "source": [
    "model.Prob_actv = pyo.Param(\n",
    "    model.lojas,\n",
    "    model.sku,\n",
    "    initialize=prob_aceitavel_dict,\n",
    "    within=pyo.NonNegativeReals,\n",
    "    doc=\"Probabilidade Aceitável por Loja\"\n",
    ")"
   ]
  },
  {
   "cell_type": "code",
   "execution_count": 21,
   "metadata": {},
   "outputs": [],
   "source": [
    "prob_rupt\n",
    "quant_stq_dict = df_to_dict(df=prob_rupt, indx_col=['Loja','SKU','NIVEL_RUPTURA'], value_col='QUANTIDADE_STOCADA')"
   ]
  },
  {
   "cell_type": "code",
   "execution_count": 22,
   "metadata": {},
   "outputs": [],
   "source": [
    "model.Qstq = pyo.Param(\n",
    "    model.LSKUR,\n",
    "    initialize=quant_stq_dict,\n",
    "    within=pyo.NonNegativeReals,\n",
    "    doc=\"Quantidade Estocada na loja\"\n",
    ")"
   ]
  },
  {
   "cell_type": "code",
   "execution_count": 23,
   "metadata": {},
   "outputs": [],
   "source": [
    "prob_rupt_dict = df_to_dict(df=prob_rupt, indx_col=['Loja','SKU','NIVEL_RUPTURA'], value_col='PROBABILIDADE_RUPTURA')\n",
    "#prob_rupt_dict"
   ]
  },
  {
   "cell_type": "code",
   "execution_count": 24,
   "metadata": {},
   "outputs": [],
   "source": [
    "model.Prob_rupt = pyo.Param(\n",
    "    model.LSKUR,\n",
    "    initialize=prob_rupt_dict,\n",
    "    within=pyo.NonNegativeReals,\n",
    "    doc=\"Probabilidade de Ruptura\"\n",
    ")"
   ]
  },
  {
   "cell_type": "markdown",
   "metadata": {},
   "source": [
    "### Variaveis"
   ]
  },
  {
   "cell_type": "code",
   "execution_count": 25,
   "metadata": {},
   "outputs": [
    {
     "data": {
      "text/plain": [
       "{('ASSAI', 'Mimmo Plus Suave'): 53,\n",
       " ('EXTRA', 'Mimmo Plus Suave'): 80,\n",
       " ('G. BARBOSA', 'Mimmo Plus Suave'): 20,\n",
       " ('MERCANTIL RODRIGUES', 'Mimmo Plus Suave'): 55,\n",
       " ('PAO DE AÇUCAR', 'Mimmo Plus Suave'): 40,\n",
       " ('TODO DIA', 'Mimmo Plus Suave'): 33,\n",
       " ('WALLMART', 'Mimmo Plus Suave'): 82,\n",
       " ('ASSAI', 'Report Premium'): 37,\n",
       " ('BOM PRECIO', 'Report Premium'): 37,\n",
       " ('EXTRA', 'Report Premium'): 52,\n",
       " ('G. BARBOSA', 'Report Premium'): 53,\n",
       " ('MERCANTIL RODRIGUES', 'Report Premium'): 29,\n",
       " ('PAO DE AÇUCAR', 'Report Premium'): 24,\n",
       " ('WALLMART', 'Report Premium'): 42}"
      ]
     },
     "execution_count": 25,
     "metadata": {},
     "output_type": "execute_result"
    }
   ],
   "source": [
    "lojas_sku_dict"
   ]
  },
  {
   "cell_type": "code",
   "execution_count": 26,
   "metadata": {},
   "outputs": [],
   "source": [
    "dict_stq = {}\n",
    "for key, value in lojas_sku_dict.items():\n",
    "    dict_stq[key] = (0,value)"
   ]
  },
  {
   "cell_type": "code",
   "execution_count": 27,
   "metadata": {},
   "outputs": [
    {
     "data": {
      "text/plain": [
       "{('ASSAI', 'Mimmo Plus Suave'): (0, 53),\n",
       " ('EXTRA', 'Mimmo Plus Suave'): (0, 80),\n",
       " ('G. BARBOSA', 'Mimmo Plus Suave'): (0, 20),\n",
       " ('MERCANTIL RODRIGUES', 'Mimmo Plus Suave'): (0, 55),\n",
       " ('PAO DE AÇUCAR', 'Mimmo Plus Suave'): (0, 40),\n",
       " ('TODO DIA', 'Mimmo Plus Suave'): (0, 33),\n",
       " ('WALLMART', 'Mimmo Plus Suave'): (0, 82),\n",
       " ('ASSAI', 'Report Premium'): (0, 37),\n",
       " ('BOM PRECIO', 'Report Premium'): (0, 37),\n",
       " ('EXTRA', 'Report Premium'): (0, 52),\n",
       " ('G. BARBOSA', 'Report Premium'): (0, 53),\n",
       " ('MERCANTIL RODRIGUES', 'Report Premium'): (0, 29),\n",
       " ('PAO DE AÇUCAR', 'Report Premium'): (0, 24),\n",
       " ('WALLMART', 'Report Premium'): (0, 42)}"
      ]
     },
     "execution_count": 27,
     "metadata": {},
     "output_type": "execute_result"
    }
   ],
   "source": [
    "dict_stq"
   ]
  },
  {
   "cell_type": "code",
   "execution_count": 28,
   "metadata": {},
   "outputs": [],
   "source": [
    "model.Q_STQ = pyo.Var(\n",
    "    model.lojXsku,\n",
    "    within=pyo.NonNegativeReals,\n",
    "    bounds=dict_stq,\n",
    "    doc=\"Variável real, indica a quantidade do estoque\"\n",
    ")"
   ]
  },
  {
   "cell_type": "code",
   "execution_count": 29,
   "metadata": {},
   "outputs": [
    {
     "name": "stdout",
     "output_type": "stream",
     "text": [
      "Q_STQ : Variável real, indica a quantidade do estoque\n",
      "    Size=14, Index=lojXsku\n",
      "    Key                                         : Lower : Value : Upper : Fixed : Stale : Domain\n",
      "                  ('ASSAI', 'Mimmo Plus Suave') :     0 :  None :    53 : False :  True : NonNegativeReals\n",
      "                    ('ASSAI', 'Report Premium') :     0 :  None :    37 : False :  True : NonNegativeReals\n",
      "               ('BOM PRECIO', 'Report Premium') :     0 :  None :    37 : False :  True : NonNegativeReals\n",
      "                  ('EXTRA', 'Mimmo Plus Suave') :     0 :  None :    80 : False :  True : NonNegativeReals\n",
      "                    ('EXTRA', 'Report Premium') :     0 :  None :    52 : False :  True : NonNegativeReals\n",
      "             ('G. BARBOSA', 'Mimmo Plus Suave') :     0 :  None :    20 : False :  True : NonNegativeReals\n",
      "               ('G. BARBOSA', 'Report Premium') :     0 :  None :    53 : False :  True : NonNegativeReals\n",
      "    ('MERCANTIL RODRIGUES', 'Mimmo Plus Suave') :     0 :  None :    55 : False :  True : NonNegativeReals\n",
      "      ('MERCANTIL RODRIGUES', 'Report Premium') :     0 :  None :    29 : False :  True : NonNegativeReals\n",
      "          ('PAO DE AÇUCAR', 'Mimmo Plus Suave') :     0 :  None :    40 : False :  True : NonNegativeReals\n",
      "            ('PAO DE AÇUCAR', 'Report Premium') :     0 :  None :    24 : False :  True : NonNegativeReals\n",
      "               ('TODO DIA', 'Mimmo Plus Suave') :     0 :  None :    33 : False :  True : NonNegativeReals\n",
      "               ('WALLMART', 'Mimmo Plus Suave') :     0 :  None :    82 : False :  True : NonNegativeReals\n",
      "                 ('WALLMART', 'Report Premium') :     0 :  None :    42 : False :  True : NonNegativeReals\n"
     ]
    }
   ],
   "source": [
    "model.Q_STQ.pprint()"
   ]
  },
  {
   "cell_type": "code",
   "execution_count": 30,
   "metadata": {},
   "outputs": [],
   "source": [
    "model.RUPT_SKU = pyo.Var(\n",
    "    model.lojXsku,\n",
    "    within=pyo.NonNegativeReals,\n",
    "    doc=\"Variável real, indica o nível de ruptura do sku\"\n",
    ")"
   ]
  },
  {
   "cell_type": "code",
   "execution_count": 31,
   "metadata": {},
   "outputs": [],
   "source": [
    "model.RUPT_L = pyo.Var(\n",
    "    model.lojas,\n",
    "    within=pyo.Binary,\n",
    "    doc=\"Variável binaria, indica se houve ruptura na loja\"\n",
    ")"
   ]
  },
  {
   "cell_type": "code",
   "execution_count": 32,
   "metadata": {},
   "outputs": [],
   "source": [
    "model.RUPT_L_SKU = pyo.Var(\n",
    "    model.lojXsku,\n",
    "    within=pyo.Binary,\n",
    "    doc=\"Variável real, indica se houve ruptura do produto na loja\"\n",
    ")"
   ]
  },
  {
   "cell_type": "code",
   "execution_count": 33,
   "metadata": {},
   "outputs": [],
   "source": [
    "model.NIVEL_SKU = pyo.Var(\n",
    "    model.LSKUR,\n",
    "    within=pyo.Binary,\n",
    "    doc=\"Variável binaria, indica o nível do stoque\"\n",
    ")"
   ]
  },
  {
   "cell_type": "code",
   "execution_count": 34,
   "metadata": {},
   "outputs": [],
   "source": [
    "model.LAMBDA = pyo.Var(\n",
    "    model.LSKUR,\n",
    "    within=pyo.Binary,\n",
    "    doc=\"Função auxiliar na linearização por partes\"\n",
    ")"
   ]
  },
  {
   "cell_type": "markdown",
   "metadata": {},
   "source": [
    "### Restrições"
   ]
  },
  {
   "cell_type": "code",
   "execution_count": 35,
   "metadata": {},
   "outputs": [],
   "source": [
    "def _estoque_max(model, l, s):\n",
    "    eq = (sum(\n",
    "            model.NIVEL_SKU[(l,s,r)]*model.Qstq[(l,s,r)] for r in model.niv_rup \n",
    "        ) <= model.CapMaxLS[(l,s)]\n",
    "    )\n",
    "\n",
    "    return eq\n",
    "\n",
    "model.rest_estoque_maximo = pyo.Constraint(model.lojXsku, rule=_estoque_max)"
   ]
  },
  {
   "cell_type": "code",
   "execution_count": 36,
   "metadata": {},
   "outputs": [],
   "source": [
    "def _quant_sku(model, l, s):\n",
    "    eq = (\n",
    "        sum(\n",
    "            model.LAMBDA[(l, s, r)]*model.Qstq[(l, s, r)] for r in model.niv_rup\n",
    "        ) == model.Q_STQ[(l,s)]\n",
    "    )\n",
    "\n",
    "    return eq\n",
    "\n",
    "model.rest_quant_sku = pyo.Constraint(model.lojXsku, rule=_quant_sku)"
   ]
  },
  {
   "cell_type": "code",
   "execution_count": 37,
   "metadata": {},
   "outputs": [],
   "source": [
    "def _rupt_sku(model, l, s):\n",
    "    eq = (\n",
    "        sum(\n",
    "            model.LAMBDA[(l,s,r)]*model.Prob_rupt[(l,s,r)] for r in model.niv_rup\n",
    "        ) == model.RUPT_SKU[(l, s)]\n",
    "    )\n",
    "\n",
    "    return eq\n",
    "\n",
    "model.rest_rupt_sku = pyo.Constraint(model.lojXsku, rule=_rupt_sku)"
   ]
  },
  {
   "cell_type": "code",
   "execution_count": 38,
   "metadata": {},
   "outputs": [],
   "source": [
    "def _lim_disp(model, s):\n",
    "    eq = (\n",
    "        sum(\n",
    "            model.Q_STQ[(l,s_)] for l, s_ in model.lojXsku if s_==s\n",
    "        ) <= model.disp[(s)]\n",
    "    )\n",
    "\n",
    "    return eq\n",
    "\n",
    "model.rest_lim_disp = pyo.Constraint(model.sku, rule=_lim_disp)"
   ]
  },
  {
   "cell_type": "code",
   "execution_count": 39,
   "metadata": {},
   "outputs": [],
   "source": [
    "def _max_nivel(model, l, s):\n",
    "    eq = (\n",
    "        sum(\n",
    "            model.NIVEL_SKU[(l,s,r)] for r in model.niv_rup\n",
    "        ) == 1\n",
    "    )\n",
    "\n",
    "    return eq\n",
    "\n",
    "model.rest_max_nivel = pyo.Constraint(model.lojXsku, rule=_max_nivel)"
   ]
  },
  {
   "cell_type": "code",
   "execution_count": 40,
   "metadata": {},
   "outputs": [],
   "source": [
    "def _max_lambda(model, l, s):\n",
    "    eq = (\n",
    "        sum(\n",
    "            model.LAMBDA[(l,s,r)] for r in model.niv_rup\n",
    "        ) == 1\n",
    "    )\n",
    "\n",
    "    return eq\n",
    "\n",
    "model.rest_max_lambda = pyo.Constraint(model.lojXsku, rule=_max_lambda)"
   ]
  },
  {
   "cell_type": "code",
   "execution_count": 41,
   "metadata": {},
   "outputs": [],
   "source": [
    "def _min_nivel(model, l, s, r):\n",
    "    if r == 1:\n",
    "        eq = (\n",
    "            model.LAMBDA[(l,s,r)] <= model.NIVEL_SKU[(l,s,r)]\n",
    "        )\n",
    "    elif r == 6:\n",
    "        eq = (\n",
    "            model.LAMBDA[(l,s,r)] <= model.NIVEL_SKU[(l,s,r-1)]\n",
    "        )\n",
    "    else:\n",
    "        eq = (\n",
    "            model.LAMBDA[(l,s,r)] <= model.NIVEL_SKU[(l,s,r)] + model.NIVEL_SKU[(l,s,r-1)]\n",
    "        )\n",
    "    \n",
    "    return eq\n",
    "\n",
    "model.rest_min_nivel = pyo.Constraint(model.LSKUR, rule=_min_nivel)"
   ]
  },
  {
   "cell_type": "code",
   "execution_count": 42,
   "metadata": {},
   "outputs": [],
   "source": [
    "def _houve_ruptura_sku(model, l, s):\n",
    "    eq = (\n",
    "        model.RUPT_SKU[(l,s)] - model.Prob_actv[(l,s)] <= model.RUPT_L_SKU[(l,s)]\n",
    "    )\n",
    "\n",
    "    return eq\n",
    "\n",
    "model.rest_houve_rupt_sku = pyo.Constraint(model.lojXsku, rule=_houve_ruptura_sku)"
   ]
  },
  {
   "cell_type": "code",
   "execution_count": 43,
   "metadata": {},
   "outputs": [],
   "source": [
    "def _houve_rupt_loja(model, l, s):\n",
    "    eq = model.RUPT_L[l] >= model.RUPT_L_SKU[(l,s)]\n",
    "\n",
    "    return eq\n",
    "\n",
    "model.rest_houve_rupt_loja = pyo.Constraint(model.lojXsku,rule=_houve_rupt_loja)"
   ]
  },
  {
   "cell_type": "markdown",
   "metadata": {},
   "source": [
    "### Função Objetivo"
   ]
  },
  {
   "cell_type": "code",
   "execution_count": 44,
   "metadata": {},
   "outputs": [],
   "source": [
    "def _fo(model):\n",
    "    value = sum(model.RUPT_L_SKU[(l,s)] for l, s in model.lojXsku)\n",
    "    \n",
    "    return value\n",
    "\n",
    "\n",
    "model.fo = pyo.Objective(rule=_fo, sense=pyo.minimize, doc=\"Estoque_Ruptura\")"
   ]
  },
  {
   "cell_type": "code",
   "execution_count": 45,
   "metadata": {},
   "outputs": [
    {
     "data": {
      "text/plain": [
       "('modelo_stoque_ruptura.lp', 2392455663776)"
      ]
     },
     "execution_count": 45,
     "metadata": {},
     "output_type": "execute_result"
    }
   ],
   "source": [
    "model.write(\"modelo_stoque_ruptura.lp\", io_options={'symbolic_solver_labels':True})"
   ]
  },
  {
   "cell_type": "code",
   "execution_count": 46,
   "metadata": {},
   "outputs": [
    {
     "name": "stdout",
     "output_type": "stream",
     "text": [
      "WARNING: Loading a SolverResults object with a warning status into\n",
      "model.name=\"unknown\";\n",
      "    - termination condition: infeasible\n",
      "    - message from solver: <undefined>\n"
     ]
    }
   ],
   "source": [
    "path_solver = '../../solvers/cbc.exe'\n",
    "solver = pyo.SolverFactory('cbc', executable=path_solver)\n",
    "sol = solver.solve(model, tee=False)"
   ]
  },
  {
   "cell_type": "code",
   "execution_count": 47,
   "metadata": {},
   "outputs": [
    {
     "name": "stdout",
     "output_type": "stream",
     "text": [
      "# ==========================================================\n",
      "# = Solver Results                                         =\n",
      "# ==========================================================\n",
      "# ----------------------------------------------------------\n",
      "#   Problem Information\n",
      "# ----------------------------------------------------------\n",
      "Problem: \n",
      "- Name: unknown\n",
      "  Lower bound: None\n",
      "  Upper bound: inf\n",
      "  Number of objectives: 1\n",
      "  Number of constraints: 156\n",
      "  Number of variables: 196\n",
      "  Number of binary variables: 190\n",
      "  Number of integer variables: 190\n",
      "  Number of nonzeros: 14\n",
      "  Sense: minimize\n",
      "# ----------------------------------------------------------\n",
      "#   Solver Information\n",
      "# ----------------------------------------------------------\n",
      "Solver: \n",
      "- Status: warning\n",
      "  User time: -1.0\n",
      "  System time: 0.01\n",
      "  Wallclock time: 0.01\n",
      "  Termination condition: infeasible\n",
      "  Termination message: Model was proven to be infeasible.\n",
      "  Statistics: \n",
      "    Branch and bound: \n",
      "      Number of bounded subproblems: None\n",
      "      Number of created subproblems: None\n",
      "  Error rc: 0\n",
      "  Time: 0.20631885528564453\n",
      "# ----------------------------------------------------------\n",
      "#   Solution Information\n",
      "# ----------------------------------------------------------\n",
      "Solution: \n",
      "- number of solutions: 0\n",
      "  number of solutions displayed: 0\n"
     ]
    }
   ],
   "source": [
    "sol.write(num=1)"
   ]
  },
  {
   "cell_type": "code",
   "execution_count": null,
   "metadata": {},
   "outputs": [],
   "source": []
  }
 ],
 "metadata": {
  "kernelspec": {
   "display_name": "Python 3",
   "language": "python",
   "name": "python3"
  },
  "language_info": {
   "codemirror_mode": {
    "name": "ipython",
    "version": 3
   },
   "file_extension": ".py",
   "mimetype": "text/x-python",
   "name": "python",
   "nbconvert_exporter": "python",
   "pygments_lexer": "ipython3",
   "version": "3.8.10"
  },
  "orig_nbformat": 4
 },
 "nbformat": 4,
 "nbformat_minor": 2
}
