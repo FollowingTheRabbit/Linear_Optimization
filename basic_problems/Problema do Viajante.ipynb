{
 "cells": [
  {
   "cell_type": "code",
   "execution_count": 1,
   "metadata": {},
   "outputs": [],
   "source": [
    "import pyomo.environ as pyo\n",
    "import random\n",
    "import matplotlib.pyplot as plt"
   ]
  },
  {
   "cell_type": "code",
   "execution_count": 2,
   "metadata": {},
   "outputs": [],
   "source": [
    "path_solver = '../solvers/glpk-4.65/w64/glpsol.exe'"
   ]
  },
  {
   "cell_type": "markdown",
   "metadata": {},
   "source": [
    "### Mapa de N cidades aletoreamente geradas"
   ]
  },
  {
   "cell_type": "code",
   "execution_count": 3,
   "metadata": {},
   "outputs": [],
   "source": [
    "mapa_lim = [[10,100],[20,120]] \n",
    "\n",
    "def gera_ponto(mapa_lim):\n",
    "    x = random.randrange(mapa_lim[0][0], mapa_lim[0][1])\n",
    "    y = random.randrange(mapa_lim[1][0], mapa_lim[1][1])\n",
    "    return x, y\n",
    "\n",
    "def gera_mapa(mapa_lim, n_cid):\n",
    "    cidades = []\n",
    "    while len(cidades) < n_cid:\n",
    "        cidades.append(gera_ponto(mapa_lim))\n",
    "        \n",
    "    \n",
    "    return cidades\n"
   ]
  },
  {
   "cell_type": "code",
   "execution_count": 4,
   "metadata": {},
   "outputs": [],
   "source": [
    "gera_ponto(mapa_lim=mapa_lim)\n",
    "N = 5"
   ]
  },
  {
   "cell_type": "code",
   "execution_count": 5,
   "metadata": {},
   "outputs": [
    {
     "data": {
      "text/plain": [
       "5"
      ]
     },
     "execution_count": 5,
     "metadata": {},
     "output_type": "execute_result"
    }
   ],
   "source": [
    "cid  = gera_mapa(mapa_lim, N)\n",
    "len(cid)"
   ]
  },
  {
   "cell_type": "code",
   "execution_count": 6,
   "metadata": {},
   "outputs": [
    {
     "data": {
      "text/plain": [
       "(10.0, 100.0)"
      ]
     },
     "execution_count": 6,
     "metadata": {},
     "output_type": "execute_result"
    },
    {
     "data": {
      "image/png": "[encoded data removed]",
      "text/plain": [
       "<Figure size 640x480 with 1 Axes>"
      ]
     },
     "metadata": {},
     "output_type": "display_data"
    }
   ],
   "source": [
    "cid[0]\n",
    "figura, ax = plt.subplots()\n",
    "for i in range(N):\n",
    "    ax.scatter(cid[i][0],cid[i][1],c='b', s=5)\n",
    "#plt.scatter(cid[1][0],cid[1][1])\n",
    "plt.ylim(mapa_lim[1])\n",
    "plt.xlim(mapa_lim[0])\n"
   ]
  },
  {
   "cell_type": "code",
   "execution_count": 7,
   "metadata": {},
   "outputs": [],
   "source": [
    "indx = random.randint(0,N-1)\n",
    "P1 = cid[indx]\n"
   ]
  },
  {
   "cell_type": "code",
   "execution_count": 8,
   "metadata": {},
   "outputs": [],
   "source": [
    "indx = random.randint(0,N-1)\n",
    "P2 = cid[indx]"
   ]
  },
  {
   "cell_type": "code",
   "execution_count": 9,
   "metadata": {},
   "outputs": [],
   "source": [
    "def dist(p1,p2):\n",
    "    return ((p1[0]-p2[0])**2 + (p1[1]-p2[1])**2)**(0.5)\n"
   ]
  },
  {
   "cell_type": "code",
   "execution_count": 10,
   "metadata": {},
   "outputs": [
    {
     "data": {
      "image/png": "[encoded data removed]",
      "text/plain": [
       "<Figure size 640x480 with 1 Axes>"
      ]
     },
     "execution_count": 10,
     "metadata": {},
     "output_type": "execute_result"
    }
   ],
   "source": [
    "\n",
    "ax.scatter(P1[0],P1[1],c='r')\n",
    "#plt.plot([P1[0],P1[1]])\n",
    "figura#.show()"
   ]
  },
  {
   "cell_type": "markdown",
   "metadata": {},
   "source": [
    "### Matriz de distanças"
   ]
  },
  {
   "cell_type": "code",
   "execution_count": 11,
   "metadata": {},
   "outputs": [
    {
     "data": {
      "text/plain": [
       "[[0.0, 75.61084578286372, 75.47184905645283, 27.0, 38.58756276314948],\n",
       " [75.61084578286372,\n",
       "  0.0,\n",
       "  49.040799340956916,\n",
       "  71.00704190430693,\n",
       "  51.478150704935004],\n",
       " [75.47184905645283,\n",
       "  49.040799340956916,\n",
       "  0.0,\n",
       "  54.48853090330111,\n",
       "  36.89173349139343],\n",
       " [27.0, 71.00704190430693, 54.48853090330111, 0.0, 20.8806130178211],\n",
       " [38.58756276314948,\n",
       "  51.478150704935004,\n",
       "  36.89173349139343,\n",
       "  20.8806130178211,\n",
       "  0.0]]"
      ]
     },
     "execution_count": 11,
     "metadata": {},
     "output_type": "execute_result"
    }
   ],
   "source": [
    "dist(P1,P2)\n",
    "#P1,P2\n",
    "d = []\n",
    "for i, p1 in enumerate(cid):\n",
    "    d_aux = [] \n",
    "    for j, p2 in enumerate(cid):\n",
    "        #print(i,\"---\",dist(P1,p)) \n",
    "        d_aux.append(dist(p1,p2))\n",
    "    #d_aux.append(dist(cid[0],p1))\n",
    "    d.append(d_aux)\n",
    "#d.append(d[0])\n",
    "d"
   ]
  },
  {
   "cell_type": "code",
   "execution_count": 12,
   "metadata": {},
   "outputs": [],
   "source": [
    "from itertools import permutations\n",
    "model = pyo.ConcreteModel()\n",
    "\n",
    "model.I = pyo.RangeSet(N)\n",
    "#model.J = pyo.RangeSet(N)\n"
   ]
  },
  {
   "cell_type": "code",
   "execution_count": 13,
   "metadata": {},
   "outputs": [
    {
     "name": "stdout",
     "output_type": "stream",
     "text": [
      "2 209.42399163303517\n"
     ]
    },
    {
     "data": {
      "text/plain": [
       "[(1, 2, 3, 5, 4), (1, 2), (2, 3), (3, 5), (5, 4), (4, 1)]"
      ]
     },
     "execution_count": 13,
     "metadata": {},
     "output_type": "execute_result"
    }
   ],
   "source": [
    "indx_perm = permutations(model.I, N)\n",
    "#for perm in indx_perm:\n",
    " #   print(perm)\n",
    "perm_1fixo = []\n",
    "for prm in indx_perm:\n",
    "    if prm[0] == 1:\n",
    "        perm_1fixo.append(prm)\n",
    "#print(perm_1fixo)\n",
    "\n",
    "caminhos = []\n",
    "for prm in perm_1fixo:\n",
    "    aux = []\n",
    "    aux.append(prm)\n",
    "    #print(prm)\n",
    "    for i in range(N-1):\n",
    "        aux.append((prm[i], prm[i+1]))\n",
    "     #   print(prm[i], prm[i+1])\n",
    "    aux.append((prm[N-1], 1))\n",
    "    #print(prm[N-1], 1)\n",
    "    caminhos.append(aux)\n",
    "\n",
    "\n",
    "len(caminhos),len(caminhos[0])\n",
    "\n",
    "model.PermP1fixo = pyo.RangeSet(len(caminhos))\n",
    "\n",
    "def med_cam(model, prm):\n",
    "    dist_t = 0\n",
    "    #print(caminhos[prm-1][0], prm)\n",
    "    for i in model.I:\n",
    "        #print(i, caminhos[prm-1][i])\n",
    "        x = caminhos[prm-1][i][0]\n",
    "        y = caminhos[prm-1][i][1]\n",
    "\n",
    "        #print(d[x-1][y-1])\n",
    "        dist_t = dist_t + d[x-1][y-1]\n",
    "    return dist_t\n",
    "\n",
    "\n",
    "s = []\n",
    "for prm in model.PermP1fixo:\n",
    "    s.append(med_cam(model, prm))\n",
    "min_s = min(s)\n",
    "print(s.index(min(s))+1, min(s))\n",
    "caminhos[s.index(min(s))]\n",
    "#caminhos\n",
    "#s\n",
    "#s[s.values==min(s)]\n",
    "#import numpy as np\n",
    "#S = np.array(s)\n",
    "#np.where(x==min(S),S)"
   ]
  },
  {
   "cell_type": "code",
   "execution_count": 14,
   "metadata": {},
   "outputs": [
    {
     "name": "stdout",
     "output_type": "stream",
     "text": [
      "d : Size=25, Index=d_index, Domain=Any, Default=None, Mutable=False\n",
      "    Key    : Value\n",
      "    (1, 1) :                0.0\n",
      "    (1, 2) :  75.61084578286372\n",
      "    (1, 3) :  75.47184905645283\n",
      "    (1, 4) :               27.0\n",
      "    (1, 5) :  38.58756276314948\n",
      "    (2, 1) :  75.61084578286372\n",
      "    (2, 2) :                0.0\n",
      "    (2, 3) : 49.040799340956916\n",
      "    (2, 4) :  71.00704190430693\n",
      "    (2, 5) : 51.478150704935004\n",
      "    (3, 1) :  75.47184905645283\n",
      "    (3, 2) : 49.040799340956916\n",
      "    (3, 3) :                0.0\n",
      "    (3, 4) :  54.48853090330111\n",
      "    (3, 5) :  36.89173349139343\n",
      "    (4, 1) :               27.0\n",
      "    (4, 2) :  71.00704190430693\n",
      "    (4, 3) :  54.48853090330111\n",
      "    (4, 4) :                0.0\n",
      "    (4, 5) :   20.8806130178211\n",
      "    (5, 1) :  38.58756276314948\n",
      "    (5, 2) : 51.478150704935004\n",
      "    (5, 3) :  36.89173349139343\n",
      "    (5, 4) :   20.8806130178211\n",
      "    (5, 5) :                0.0\n"
     ]
    }
   ],
   "source": [
    "model.d = pyo.Param(model.I, model.I, rule=lambda model, i, j: d[i-1][j-1])\n",
    "model.d.pprint()"
   ]
  },
  {
   "cell_type": "code",
   "execution_count": 15,
   "metadata": {},
   "outputs": [],
   "source": [
    "model.X = pyo.Var(model.I, model.I, within=pyo.NonNegativeIntegers)"
   ]
  },
  {
   "cell_type": "code",
   "execution_count": 16,
   "metadata": {},
   "outputs": [],
   "source": [
    "def obj(model):\n",
    "    return pyo.summation(model.d, model.X)\n",
    "\n",
    "model.obj = pyo.Objective(rule=obj, sense=pyo.minimize)\n"
   ]
  },
  {
   "cell_type": "code",
   "execution_count": null,
   "metadata": {},
   "outputs": [],
   "source": [
    "\n",
    "def rule_1row(model,i):\n",
    "    \"\"\"\n",
    "    Sum of values of rows of the matrix of distances == 1.\n",
    "    \"\"\"\n",
    "#    if i == N:\n",
    "#        return sum(model.X[i,j] for j in model.J if j>=i) == 0\n",
    "#    if i == 1:\n",
    "#        return sum(model.X[i,j] for j in modei) == 2\n",
    "    return ((sum(model.X[i,j] for j in model.I if i!=j) == 1))\n",
    "\n",
    "def rule_1col(model,j):\n",
    "    \"\"\"\n",
    "    Sum of values of columns matrix of distances == 1.\n",
    "    \"\"\"\n",
    "    #if j == 1:\n",
    "    #    return sum(model.X[i,j] for i in model.I) == 0\n",
    "    return sum(model.X[i,j] for i in model.I if i!=j) == 1\n",
    "\n",
    "def rule_triag_sup(model,i):\n",
    "    \"\"\"\n",
    "    Sum of values of supperior triangular (up the diagonal) matrix of distances == 1,2,...,N-1.\n",
    "    \"\"\"\n",
    "    if i == N:\n",
    "        #return sum(model.X[i,j] for j in model.I if j>=i) == 0\n",
    "        return sum(model.X[i,j] for j in model.I if j>=i)\n",
    "\n",
    "    #return sum(model.X[i,j] for j in model.I if j>=i) >= 1\n",
    "    return sum(model.X[i,j] for j in model.I if j>=i)\n",
    "\n",
    "def rule_triag_inf(model,j):\n",
    "    \"\"\"\n",
    "    Sum of values of supperior triangular (up the diagonal) matrix of distances == 1,2,...,N-1.\n",
    "    \"\"\"\n",
    "    if j == N:\n",
    "        return sum(model.X[i,j] for i in model.I if i>=j) == 0\n",
    "    #if i == 1:\n",
    "    #    return sum(model.X[i,j] for j in model.J if j>=i) == 1\n",
    "    return sum(model.X[i,j] for i in model.I if i>=j) >= 1\n",
    "\n",
    "\n",
    "def rule_trace(model):\n",
    "    return sum(model.X[i,i] for i in model.I) == 0\n",
    "\n",
    "def rule_n(model,i):\n",
    "    return sum(rule_triag_sup(model, n) for n in model.I) == model.u[i]\n",
    "\n",
    "\n",
    "#def rule_N_n(model,i):\n",
    "#    return sum(rule_triag_inf(model, n) for n in model.I) == (N-model.u[i])\n",
    "\n",
    "def rule3(model,i,j):\n",
    "    if i!=j:\n",
    "        return model.u[i] - model.u[j] + N*model.X[i,j] <= N-1\n",
    "    else:\n",
    "        return model.u[i] - model.u[j] == 0\n",
    "\n",
    "\n",
    "model.R1r = pyo.Constraint(model.I, rule=rule_1row)\n",
    "model.R1c = pyo.Constraint(model.I, rule=rule_1col)\n",
    "model.Rtrace = pyo.Constraint(rule=rule_trace)\n",
    "\n",
    "model.U = pyo.RangeSet(2,N)\n",
    "model.u = pyo.Var(model.I, within=pyo.NonNegativeIntegers, bounds=(0,N-1))\n",
    "model.R3 = pyo.Constraint(model.I, model.U, rule=rule3)\n",
    "#model.n = pyo.Constraint(rule=rule_n)\n",
    "#model.N_n = pyo.Constraint(model.U,rule=rule_N_n)\n",
    "#model.R3 = pyo.Constraint(model.I,rule=lambda mode, i: model.X[i,i]==0)\n",
    "\n",
    "#model.R4 = pyo.Constraint(expr=model.X[1,4]==0)"
   ]
  },
  {
   "cell_type": "code",
   "execution_count": 17,
   "metadata": {},
   "outputs": [
    {
     "data": {
      "text/plain": [
       "<pyomo.core.expr.numeric_expr.LinearExpression at 0x22fd5183f40>"
      ]
     },
     "execution_count": 17,
     "metadata": {},
     "output_type": "execute_result"
    }
   ],
   "source": [
    "rule_triag_sup(model, 1)"
   ]
  },
  {
   "cell_type": "code",
   "execution_count": 18,
   "metadata": {},
   "outputs": [
    {
     "name": "stdout",
     "output_type": "stream",
     "text": [
      "R1r : Size=5, Index=I, Active=True\n",
      "    Key : Lower : Body                              : Upper : Active\n",
      "      1 :   1.0 : X[1,2] + X[1,3] + X[1,4] + X[1,5] :   1.0 :   True\n",
      "      2 :   1.0 : X[2,1] + X[2,3] + X[2,4] + X[2,5] :   1.0 :   True\n",
      "      3 :   1.0 : X[3,1] + X[3,2] + X[3,4] + X[3,5] :   1.0 :   True\n",
      "      4 :   1.0 : X[4,1] + X[4,2] + X[4,3] + X[4,5] :   1.0 :   True\n",
      "      5 :   1.0 : X[5,1] + X[5,2] + X[5,3] + X[5,4] :   1.0 :   True\n",
      "d : Size=25, Index=d_index, Domain=Any, Default=None, Mutable=False\n",
      "    Key    : Value\n",
      "    (1, 1) :                0.0\n",
      "    (1, 2) :  75.61084578286372\n",
      "    (1, 3) :  75.47184905645283\n",
      "    (1, 4) :               27.0\n",
      "    (1, 5) :  38.58756276314948\n",
      "    (2, 1) :  75.61084578286372\n",
      "    (2, 2) :                0.0\n",
      "    (2, 3) : 49.040799340956916\n",
      "    (2, 4) :  71.00704190430693\n",
      "    (2, 5) : 51.478150704935004\n",
      "    (3, 1) :  75.47184905645283\n",
      "    (3, 2) : 49.040799340956916\n",
      "    (3, 3) :                0.0\n",
      "    (3, 4) :  54.48853090330111\n",
      "    (3, 5) :  36.89173349139343\n",
      "    (4, 1) :               27.0\n",
      "    (4, 2) :  71.00704190430693\n",
      "    (4, 3) :  54.48853090330111\n",
      "    (4, 4) :                0.0\n",
      "    (4, 5) :   20.8806130178211\n",
      "    (5, 1) :  38.58756276314948\n",
      "    (5, 2) : 51.478150704935004\n",
      "    (5, 3) :  36.89173349139343\n",
      "    (5, 4) :   20.8806130178211\n",
      "    (5, 5) :                0.0\n"
     ]
    }
   ],
   "source": [
    "model.R1r.pprint()\n",
    "model.d.pprint()"
   ]
  },
  {
   "cell_type": "code",
   "execution_count": 19,
   "metadata": {},
   "outputs": [
    {
     "data": {
      "text/plain": [
       "{'Problem': [{'Name': 'unknown', 'Lower bound': 209.423991633035, 'Upper bound': 209.423991633035, 'Number of objectives': 1, 'Number of constraints': 31, 'Number of variables': 31, 'Number of nonzeros': 93, 'Sense': 'minimize'}], 'Solver': [{'Status': 'ok', 'Termination condition': 'optimal', 'Statistics': {'Branch and bound': {'Number of bounded subproblems': '9', 'Number of created subproblems': '9'}}, 'Error rc': 0, 'Time': 0.11970305442810059}], 'Solution': [OrderedDict([('number of solutions', 0), ('number of solutions displayed', 0)])]}"
      ]
     },
     "execution_count": 19,
     "metadata": {},
     "output_type": "execute_result"
    }
   ],
   "source": [
    "solver = pyo.SolverFactory('glpk', executable=path_solver)\n",
    "solver.solve(model, tee=False)"
   ]
  },
  {
   "cell_type": "code",
   "execution_count": 20,
   "metadata": {},
   "outputs": [
    {
     "data": {
      "text/plain": [
       "(209.42399163303517, 209.42399163303517)"
      ]
     },
     "execution_count": 20,
     "metadata": {},
     "output_type": "execute_result"
    }
   ],
   "source": [
    "model.obj(),min_s"
   ]
  },
  {
   "cell_type": "code",
   "execution_count": 21,
   "metadata": {},
   "outputs": [
    {
     "name": "stdout",
     "output_type": "stream",
     "text": [
      "0.0 1.0 0.0 0.0 0.0 \n",
      "0.0 0.0 1.0 0.0 0.0 \n",
      "0.0 0.0 0.0 0.0 1.0 \n",
      "1.0 0.0 0.0 0.0 0.0 \n",
      "0.0 0.0 0.0 1.0 0.0 \n"
     ]
    }
   ],
   "source": [
    "for i in model.I:\n",
    "    for j in model.I:\n",
    "#        print(i,j,\"-----\",modelo.X[i,j](), end='')\n",
    "        print(model.X[i,j](), end=' ')\n",
    "    print(\"\")"
   ]
  },
  {
   "cell_type": "code",
   "execution_count": null,
   "metadata": {},
   "outputs": [],
   "source": []
  },
  {
   "cell_type": "code",
   "execution_count": null,
   "metadata": {},
   "outputs": [],
   "source": []
  },
  {
   "cell_type": "code",
   "execution_count": null,
   "metadata": {},
   "outputs": [],
   "source": []
  },
  {
   "cell_type": "code",
   "execution_count": null,
   "metadata": {},
   "outputs": [],
   "source": []
  }
 ],
 "metadata": {
  "kernelspec": {
   "display_name": "Python 3",
   "language": "python",
   "name": "python3"
  },
  "language_info": {
   "codemirror_mode": {
    "name": "ipython",
    "version": 3
   },
   "file_extension": ".py",
   "mimetype": "text/x-python",
   "name": "python",
   "nbconvert_exporter": "python",
   "pygments_lexer": "ipython3",
   "version": "3.8.10"
  },
  "orig_nbformat": 4
 },
 "nbformat": 4,
 "nbformat_minor": 2
}
