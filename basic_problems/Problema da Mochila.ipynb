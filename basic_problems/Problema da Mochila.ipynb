{
 "cells": [
  {
   "cell_type": "code",
   "execution_count": 1,
   "id": "9fe57546",
   "metadata": {},
   "outputs": [],
   "source": [
    "#!pip install pyomo\n",
    "#!pip install cplex\n",
    "#!pip install ipopt\n",
    "#!pip install glpk, cbc\n",
    "\n",
    "#!pip install --trusted-host pypi.org --trusted-host files.pythonhosted.org glpk"
   ]
  },
  {
   "cell_type": "code",
   "execution_count": 2,
   "id": "e917b9af",
   "metadata": {},
   "outputs": [],
   "source": [
    "import pyomo.environ as pyEnv"
   ]
  },
  {
   "cell_type": "code",
   "execution_count": 3,
   "id": "db09864f",
   "metadata": {},
   "outputs": [],
   "source": [
    "lucros = [92, 57, 49, 68, 60, 43, 67, 84, 87, 72]\n",
    "pesos =  [23, 31, 29, 44, 53, 38, 63, 85, 89, 82]\n",
    "capacidade = 165\n",
    "m = len(lucros)"
   ]
  },
  {
   "cell_type": "code",
   "execution_count": 4,
   "id": "64972ec3",
   "metadata": {},
   "outputs": [],
   "source": [
    "modelo = pyEnv.ConcreteModel()\n",
    "modelo.I = pyEnv.RangeSet(m)\n",
    "\n",
    "modelo.x = pyEnv.Var(modelo.I, within=pyEnv.Binary)\n",
    "modelo.obj = pyEnv.Objective(expr = sum(lucros[i-1]*modelo.x[i] for i in modelo.I), sense=pyEnv.maximize)\n",
    "modelo.res = pyEnv.Constraint(expr = sum(pesos[i-1]*modelo.x[i] for i in modelo.I) <= capacidade)"
   ]
  },
  {
   "cell_type": "code",
   "execution_count": 5,
   "id": "8b128e7e",
   "metadata": {},
   "outputs": [],
   "source": [
    "path = '../solvers/cbc.exe'"
   ]
  },
  {
   "cell_type": "code",
   "execution_count": 6,
   "id": "cf5f27db",
   "metadata": {},
   "outputs": [],
   "source": [
    "#path = 'C:\\Users\\CarlosSolano.iel\\Videos\\DataAnalytics\\optimizacao_linear'\n",
    "\n",
    "pt = pyEnv.SolverFactory('cbc', executable=path)\n",
    "#opt = pyEnv.SolverFactory('glpk', executable=path)\n",
    "res_obj = pt.solve(modelo, tee=False)"
   ]
  },
  {
   "cell_type": "code",
   "execution_count": 7,
   "id": "73eca1b3",
   "metadata": {},
   "outputs": [
    {
     "name": "stdout",
     "output_type": "stream",
     "text": [
      "1 ---- 1.0\n",
      "2 ---- 1.0\n",
      "3 ---- 1.0\n",
      "4 ---- 1.0\n",
      "5 ---- 0.0\n",
      "6 ---- 1.0\n",
      "7 ---- 0.0\n",
      "8 ---- 0.0\n",
      "9 ---- 0.0\n",
      "10 ---- 0.0\n"
     ]
    }
   ],
   "source": [
    "lista =  list(modelo.x.keys())\n",
    "\n",
    "for i in lista:\n",
    "    print(i, '----', modelo.x[i]())"
   ]
  },
  {
   "cell_type": "code",
   "execution_count": 8,
   "id": "8708748d",
   "metadata": {},
   "outputs": [
    {
     "name": "stdout",
     "output_type": "stream",
     "text": [
      "Valor Objetivo:  309.0\n"
     ]
    }
   ],
   "source": [
    "print('Valor Objetivo: ', modelo.obj())"
   ]
  },
  {
   "cell_type": "code",
   "execution_count": null,
   "id": "93b1011d",
   "metadata": {},
   "outputs": [],
   "source": []
  },
  {
   "cell_type": "markdown",
   "id": "5ddd9a66",
   "metadata": {},
   "source": [
    "### Pequenho problema de la mochila\n",
    "#### V1"
   ]
  },
  {
   "cell_type": "code",
   "execution_count": 9,
   "id": "9912c14c",
   "metadata": {},
   "outputs": [],
   "source": [
    "import pyomo.environ as pyEnv\n",
    "path_solv = '../solvers/cbc.exe' "
   ]
  },
  {
   "cell_type": "code",
   "execution_count": 10,
   "id": "aa5b690d",
   "metadata": {},
   "outputs": [],
   "source": [
    "#pesos = [10, 7, 8, 10, 4]\n",
    "#valor = [6, 10, 6, 8, 0]\n",
    "pesos = [7, 14, 7, 10, 4]\n",
    "valor = [6, 10, 6, 8, 0]\n",
    "capacidade = 16\n",
    "indx = len(pesos)"
   ]
  },
  {
   "cell_type": "code",
   "execution_count": 11,
   "id": "7ed5c7c6",
   "metadata": {},
   "outputs": [],
   "source": [
    "model = pyEnv.ConcreteModel()\n",
    "\n",
    "model.I = pyEnv.RangeSet(indx)\n",
    "model.X = pyEnv.Var(model.I, within=pyEnv.Binary)\n",
    "model.Obj = pyEnv.Objective(expr=sum(valor[i-1]*model.X[i] for i in model.I), sense=pyEnv.maximize)\n",
    "model.Rest = pyEnv.Constraint(expr=sum(pesos[i-1]*model.X[i] for i in model.I) <= capacidade) "
   ]
  },
  {
   "cell_type": "code",
   "execution_count": 12,
   "id": "86b8730c",
   "metadata": {},
   "outputs": [],
   "source": [
    "solver = pyEnv.SolverFactory('cbc', executable=path_solv)\n",
    "resul = solver.solve(model, tee=False)"
   ]
  },
  {
   "cell_type": "code",
   "execution_count": 13,
   "id": "acc0411b",
   "metadata": {},
   "outputs": [
    {
     "name": "stdout",
     "output_type": "stream",
     "text": [
      "1 ---- 1.0\n",
      "2 ---- 0.0\n",
      "3 ---- 1.0\n",
      "4 ---- 0.0\n",
      "5 ---- 0.0\n"
     ]
    }
   ],
   "source": [
    "list(model.I)\n",
    "for i in list(model.X.keys()):\n",
    "    print(i, \"----\",model.X[i]())"
   ]
  },
  {
   "cell_type": "code",
   "execution_count": 14,
   "id": "50d184ca",
   "metadata": {},
   "outputs": [
    {
     "data": {
      "text/plain": [
       "12.0"
      ]
     },
     "execution_count": 14,
     "metadata": {},
     "output_type": "execute_result"
    }
   ],
   "source": [
    "model.Obj()"
   ]
  },
  {
   "cell_type": "markdown",
   "id": "20a57c79",
   "metadata": {},
   "source": [
    "#### V2"
   ]
  },
  {
   "cell_type": "code",
   "execution_count": 15,
   "id": "ed8ae820",
   "metadata": {},
   "outputs": [],
   "source": [
    "Lucros = [6,10,6,7,4,2,4,]\n",
    "Volume = [10,5,7,5,6,2,1]\n",
    "Pesos = [2,10,7,6,3,1,2]\n",
    "Capacid_vol = 20 \n",
    "Capacid_pes = 16\n",
    "indice = len(Lucros)"
   ]
  },
  {
   "cell_type": "code",
   "execution_count": 16,
   "id": "4c2b2583",
   "metadata": {},
   "outputs": [],
   "source": [
    "model_2restr = pyEnv.ConcreteModel()\n",
    "\n",
    "model_2restr.I = pyEnv.RangeSet(indice)\n",
    "model_2restr.X = pyEnv.Var(model_2restr.I, within=pyEnv.Binary)\n",
    "model_2restr.L = pyEnv.Param(model_2restr.I, initialize=lambda model, i: Lucros[i-1])\n",
    "model_2restr.P = pyEnv.Param(model_2restr.I, initialize=lambda model, i: Pesos[i-1])\n",
    "model_2restr.V = pyEnv.Param(model_2restr.I, initialize=lambda model, i: Volume[i-1])\n",
    "\n",
    "def objt(model):\n",
    "    #return sum(Lucros[i-1]*model.X[i] for i in model.I)\n",
    "    return pyEnv.summation(model.L, model.X)\n",
    "\n",
    "def rest1(model):\n",
    "    return pyEnv.summation(model.P,model.X) <= Capacid_pes\n",
    "\n",
    "def rest2(model):\n",
    "    return pyEnv.summation(model.V,model.X) <= Capacid_vol\n",
    "\n",
    "\n",
    "model_2restr.Obj = pyEnv.Objective(rule=objt, sense=pyEnv.maximize)\n",
    "model_2restr.R1 = pyEnv.Constraint(rule=rest1)\n",
    "model_2restr.R2 = pyEnv.Constraint(rule=rest2)"
   ]
  },
  {
   "cell_type": "code",
   "execution_count": 17,
   "id": "10096982",
   "metadata": {},
   "outputs": [],
   "source": [
    "solver = pyEnv.SolverFactory('cbc', executable=path_solv)\n",
    "resol = solver.solve(model_2restr, tee=False)"
   ]
  },
  {
   "cell_type": "code",
   "execution_count": 18,
   "id": "30fa8fba",
   "metadata": {},
   "outputs": [
    {
     "data": {
      "text/plain": [
       "22.0"
      ]
     },
     "execution_count": 18,
     "metadata": {},
     "output_type": "execute_result"
    }
   ],
   "source": [
    "model_2restr.Obj()"
   ]
  },
  {
   "cell_type": "code",
   "execution_count": 19,
   "id": "a08c24a7",
   "metadata": {},
   "outputs": [
    {
     "name": "stdout",
     "output_type": "stream",
     "text": [
      "1 --- 1.0\n",
      "2 --- 1.0\n",
      "3 --- 0.0\n",
      "4 --- 0.0\n",
      "5 --- 0.0\n",
      "6 --- 1.0\n",
      "7 --- 1.0\n"
     ]
    }
   ],
   "source": [
    "for i in list(model_2restr.X.keys()):\n",
    "    print(i,\"---\",model_2restr.X[i]())"
   ]
  },
  {
   "cell_type": "code",
   "execution_count": 20,
   "id": "06c6914a",
   "metadata": {},
   "outputs": [
    {
     "data": {
      "text/plain": [
       "('ProblemaMochila2Restricoes.lp', 2554467328976)"
      ]
     },
     "execution_count": 20,
     "metadata": {},
     "output_type": "execute_result"
    }
   ],
   "source": [
    "model.write('ProblemaMochila2Restricoes.lp', io_options={'symbolic_solver_labels': True})"
   ]
  },
  {
   "cell_type": "code",
   "execution_count": 21,
   "id": "c0da34a5",
   "metadata": {},
   "outputs": [
    {
     "data": {
      "text/plain": [
       "{'Problem': [{'Name': 'unknown', 'Lower bound': 22.0, 'Upper bound': 22.0, 'Number of objectives': 1, 'Number of constraints': 2, 'Number of variables': 7, 'Number of binary variables': 7, 'Number of integer variables': 7, 'Number of nonzeros': 7, 'Sense': 'maximize'}], 'Solver': [{'Status': 'ok', 'User time': -1.0, 'System time': 0.03, 'Wallclock time': 0.03, 'Termination condition': 'optimal', 'Termination message': 'Model was solved to optimality (subject to tolerances), and an optimal solution is available.', 'Statistics': {'Branch and bound': {'Number of bounded subproblems': 0, 'Number of created subproblems': 0}, 'Black box': {'Number of iterations': 0}}, 'Error rc': 0, 'Time': 0.23270535469055176}], 'Solution': [OrderedDict([('number of solutions', 0), ('number of solutions displayed', 0)])]}"
      ]
     },
     "execution_count": 21,
     "metadata": {},
     "output_type": "execute_result"
    }
   ],
   "source": [
    "resol"
   ]
  },
  {
   "cell_type": "code",
   "execution_count": null,
   "id": "fe1938b4",
   "metadata": {},
   "outputs": [],
   "source": []
  },
  {
   "cell_type": "code",
   "execution_count": null,
   "id": "2259d38b",
   "metadata": {},
   "outputs": [],
   "source": []
  },
  {
   "cell_type": "code",
   "execution_count": null,
   "id": "2eb465a5",
   "metadata": {},
   "outputs": [],
   "source": []
  }
 ],
 "metadata": {
  "kernelspec": {
   "display_name": "Python 3 (ipykernel)",
   "language": "python",
   "name": "python3"
  },
  "language_info": {
   "codemirror_mode": {
    "name": "ipython",
    "version": 3
   },
   "file_extension": ".py",
   "mimetype": "text/x-python",
   "name": "python",
   "nbconvert_exporter": "python",
   "pygments_lexer": "ipython3",
   "version": "3.8.10"
  }
 },
 "nbformat": 4,
 "nbformat_minor": 5
}
