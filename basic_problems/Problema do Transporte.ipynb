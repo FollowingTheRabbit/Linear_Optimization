{
 "cells": [
  {
   "cell_type": "code",
   "execution_count": 57,
   "id": "571000b5",
   "metadata": {},
   "outputs": [],
   "source": [
    "import pyomo.environ as pyo"
   ]
  },
  {
   "cell_type": "code",
   "execution_count": 58,
   "id": "b8c4a688",
   "metadata": {},
   "outputs": [],
   "source": [
    "path_solver = \"../solvers/glpk-4.65/w64/glpsol.exe\""
   ]
  },
  {
   "cell_type": "code",
   "execution_count": 104,
   "id": "38a54f04",
   "metadata": {},
   "outputs": [],
   "source": [
    "capacidades = [1000, 1500, 1200]\n",
    "demandas = [2300, 1400]\n",
    "#capacidades = [1, 1, 1]\n",
    "#demandas = [1, 1]\n",
    "\n",
    "sum(capacidades) == sum(demandas)\n",
    "c_1j = [152, 247]\n",
    "c_2j = [117, 193]\n",
    "c_3j = [131, 185]\n",
    "c_ij = [c_1j, c_2j, c_3j]\n",
    "#sum(c_1j),sum(c_2j),sum(c_3j), sum(c_1j)+sum(c_2j)+sum(c_3j)\n",
    "indx = len(capacidades), len(demandas)"
   ]
  },
  {
   "cell_type": "code",
   "execution_count": 105,
   "id": "17611275",
   "metadata": {},
   "outputs": [
    {
     "data": {
      "text/plain": [
       "(3, 2)"
      ]
     },
     "execution_count": 105,
     "metadata": {},
     "output_type": "execute_result"
    }
   ],
   "source": [
    "indx"
   ]
  },
  {
   "cell_type": "code",
   "execution_count": 106,
   "id": "c769938d",
   "metadata": {},
   "outputs": [],
   "source": [
    "modelo = pyo.ConcreteModel()\n",
    "\n",
    "modelo.I = pyo.RangeSet(indx[0])\n",
    "modelo.J = pyo.RangeSet(indx[1])\n",
    "\n",
    "modelo.X = pyo.Var(modelo.I, modelo.J, within=pyo.NonNegativeIntegers)\n",
    "modelo.C = pyo.Param(modelo.I, modelo.J, initialize=lambda model, i, j: c_ij[i-1][j-1])\n",
    "modelo.Cap =pyo.Param(modelo.I, initialize=lambda model, i: capacidades[i-1])\n",
    "modelo.dem =pyo.Param(modelo.J, initialize=lambda model, j: demandas[j-1])"
   ]
  },
  {
   "cell_type": "code",
   "execution_count": 107,
   "id": "ad569ebe",
   "metadata": {},
   "outputs": [],
   "source": [
    "def objt(model):\n",
    "    #return sum(model.C[i,j]*model.X[i,j] for i in model.I for j in model.J)\n",
    "    #return sum(model.C[i,j]*model.X[i,j] for i, j in zip(model.I, model.J))\n",
    "    return pyo.summation(model.C, model.X)\n",
    "\n",
    "\n",
    "modelo.Obj = pyo.Objective(rule=objt, sense=pyo.minimize)\n"
   ]
  },
  {
   "cell_type": "code",
   "execution_count": 108,
   "id": "bd3742ad",
   "metadata": {},
   "outputs": [],
   "source": [
    "def rest_1(model,i):\n",
    "    return sum(model.X[i,j] for j in model.J) <= model.Cap[i]\n",
    "\n",
    "def rest_2(model,j):\n",
    "    return sum(model.X[i,j] for i in model.I) >= model.dem[j]\n",
    "\n",
    "modelo.R1 = pyo.Constraint(modelo.I, rule=rest_1)\n",
    "modelo.R2 = pyo.Constraint(modelo.J, rule=rest_2)"
   ]
  },
  {
   "cell_type": "code",
   "execution_count": 109,
   "id": "74130276",
   "metadata": {},
   "outputs": [
    {
     "data": {
      "text/plain": [
       "{'Problem': [{'Name': 'unknown', 'Lower bound': 564700.0, 'Upper bound': 564700.0, 'Number of objectives': 1, 'Number of constraints': 5, 'Number of variables': 6, 'Number of nonzeros': 12, 'Sense': 'minimize'}], 'Solver': [{'Status': 'ok', 'Termination condition': 'optimal', 'Statistics': {'Branch and bound': {'Number of bounded subproblems': '1', 'Number of created subproblems': '1'}}, 'Error rc': 0, 'Time': 0.0337374210357666}], 'Solution': [OrderedDict([('number of solutions', 0), ('number of solutions displayed', 0)])]}"
      ]
     },
     "execution_count": 109,
     "metadata": {},
     "output_type": "execute_result"
    }
   ],
   "source": [
    "solver = pyo.SolverFactory('glpk', executable=path_solver)\n",
    "solver.solve(modelo, tee=False)"
   ]
  },
  {
   "cell_type": "code",
   "execution_count": 110,
   "id": "4f365689",
   "metadata": {},
   "outputs": [
    {
     "data": {
      "text/plain": [
       "564700.0"
      ]
     },
     "execution_count": 110,
     "metadata": {},
     "output_type": "execute_result"
    }
   ],
   "source": [
    "modelo.Obj()"
   ]
  },
  {
   "cell_type": "code",
   "execution_count": 111,
   "id": "5869f02d",
   "metadata": {},
   "outputs": [
    {
     "name": "stdout",
     "output_type": "stream",
     "text": [
      "1000.0 0.0 \n",
      "1300.0 200.0 \n",
      "0.0 1200.0 \n"
     ]
    }
   ],
   "source": [
    "for i in modelo.I:\n",
    "    for j in modelo.J:\n",
    "#        print(i,j,\"-----\",modelo.X[i,j](), end='')\n",
    "        print(modelo.X[i,j](), end=' ')\n",
    "    print(\"\")"
   ]
  },
  {
   "cell_type": "code",
   "execution_count": 112,
   "id": "248d0dff",
   "metadata": {},
   "outputs": [
    {
     "name": "stdout",
     "output_type": "stream",
     "text": [
      "(1, 1) --- 1000.0\n",
      "(2, 1) --- 1300.0\n",
      "(2, 2) --- 200.0\n",
      "(3, 2) --- 1200.0\n"
     ]
    }
   ],
   "source": [
    "lista = list(modelo.X.keys())\n",
    "for i in lista:\n",
    "    if modelo.X[i]()!=0:\n",
    "        print(i,'---',modelo.X[i]())"
   ]
  },
  {
   "cell_type": "markdown",
   "id": "dc6e1fb0",
   "metadata": {},
   "source": [
    "## Problema de allocação de tarefas"
   ]
  },
  {
   "cell_type": "code",
   "execution_count": 83,
   "id": "04379088",
   "metadata": {},
   "outputs": [],
   "source": [
    "import pyomo.environ as pyoEn "
   ]
  },
  {
   "cell_type": "code",
   "execution_count": 84,
   "id": "313c3ed9",
   "metadata": {},
   "outputs": [],
   "source": [
    "#path_solver = \"../solvers/glpk-4.65/w64/glpsol.exe\"\n"
   ]
  },
  {
   "cell_type": "code",
   "execution_count": 154,
   "id": "b0e346a7",
   "metadata": {},
   "outputs": [],
   "source": [
    "#cust_1j = [152, 247]\n",
    "#cust_2j = [117, 193]\n",
    "#cust_3j = [131, 185]\n",
    "cust_1j = [230, 400, 159]\n",
    "cust_2j = [123, 21, 321]\n",
    "cust_3j = [333, 214, 252]\n",
    "c = [cust_1j,cust_2j,cust_3j]\n",
    "n, m = len(c[0]), len(c)\n"
   ]
  },
  {
   "cell_type": "code",
   "execution_count": 155,
   "id": "ddfcbd18",
   "metadata": {},
   "outputs": [],
   "source": [
    "mod = pyoEn.ConcreteModel()\n",
    "\n",
    "mod.I = pyoEn.RangeSet(m)\n",
    "mod.J = pyoEn.RangeSet(n)\n",
    "\n",
    "mod.X = pyoEn.Var(mod.I, mod.J, within=pyoEn.Binary)\n",
    "\n",
    "def init_cust(model, i, j):\n",
    "    return c[i-1][j-1]\n",
    "\n",
    "mod.C = pyoEn.Param(mod.I, mod.J, initialize=init_cust)\n"
   ]
  },
  {
   "cell_type": "code",
   "execution_count": 156,
   "id": "99d8cf0f",
   "metadata": {},
   "outputs": [],
   "source": [
    "def objct(model):\n",
    "    #return sum(model.X[i,j]*model.C[i,j] for i in model.I for j in model.J)\n",
    "    return pyoEn.summation(model.C, model.X)\n",
    "\n",
    "mod.Obj = pyoEn.Objective(rule=objct, sense=pyoEn.minimize)"
   ]
  },
  {
   "cell_type": "code",
   "execution_count": 157,
   "id": "21520d35",
   "metadata": {},
   "outputs": [],
   "source": [
    "def r1(model, i):\n",
    "    return sum(model.X[i,j] for j in mod.J) == 1\n",
    "\n",
    "def r2(model, j):\n",
    "    return sum(model.X[i,j] for i in mod.I) == 1\n",
    "\n",
    "mod.R1 = pyoEn.Constraint(mod.I, rule=r1)\n",
    "mod.R2 = pyoEn.Constraint(mod.J, rule=r2)"
   ]
  },
  {
   "cell_type": "code",
   "execution_count": 158,
   "id": "01819e83",
   "metadata": {},
   "outputs": [],
   "source": [
    "solver = pyoEn.SolverFactory('glpk', executable=path_solver)\n",
    "solution = solver.solve(mod, tee=False)"
   ]
  },
  {
   "cell_type": "code",
   "execution_count": 159,
   "id": "20158f70",
   "metadata": {},
   "outputs": [
    {
     "name": "stdout",
     "output_type": "stream",
     "text": [
      "0.0 0.0 1.0 \n",
      "1.0 0.0 0.0 \n",
      "0.0 1.0 0.0 \n"
     ]
    }
   ],
   "source": [
    "for i in mod.I:\n",
    "    for j in mod.J:\n",
    "#        print(i,j,\"-----\",modelo.X[i,j](), end='')\n",
    "        print(mod.X[i,j](), end=' ')\n",
    "    print(\"\")"
   ]
  },
  {
   "cell_type": "code",
   "execution_count": 160,
   "id": "773199e3",
   "metadata": {},
   "outputs": [
    {
     "data": {
      "text/plain": [
       "496.0"
      ]
     },
     "execution_count": 160,
     "metadata": {},
     "output_type": "execute_result"
    }
   ],
   "source": [
    "#mod.pprint()\n",
    "mod.Obj()\n"
   ]
  },
  {
   "cell_type": "code",
   "execution_count": 161,
   "id": "c76dfe23",
   "metadata": {},
   "outputs": [
    {
     "name": "stdout",
     "output_type": "stream",
     "text": [
      "(1, 3) --- 1.0\n",
      "(2, 1) --- 1.0\n",
      "(3, 2) --- 1.0\n"
     ]
    }
   ],
   "source": [
    "#for i in model.I:\n",
    "#    print(f'{i}---',mod.X[i])\n",
    "#\n",
    "lista = list(mod.X.keys())\n",
    "for i in lista:\n",
    "    if mod.X[i]()!=0:\n",
    "        print(i,'---',mod.X[i]())"
   ]
  },
  {
   "cell_type": "markdown",
   "id": "5a5cd2d0",
   "metadata": {},
   "source": []
  },
  {
   "cell_type": "code",
   "execution_count": 162,
   "id": "498ac36d",
   "metadata": {},
   "outputs": [
    {
     "name": "stdout",
     "output_type": "stream",
     "text": [
      "C : Size=9, Index=C_index, Domain=Any, Default=None, Mutable=False\n",
      "    Key    : Value\n",
      "    (1, 1) :   230\n",
      "    (1, 2) :   400\n",
      "    (1, 3) :   159\n",
      "    (2, 1) :   123\n",
      "    (2, 2) :    21\n",
      "    (2, 3) :   321\n",
      "    (3, 1) :   333\n",
      "    (3, 2) :   214\n",
      "    (3, 3) :   252\n"
     ]
    }
   ],
   "source": [
    "mod.C.pprint()"
   ]
  },
  {
   "cell_type": "code",
   "execution_count": null,
   "id": "fc554367",
   "metadata": {},
   "outputs": [],
   "source": []
  }
 ],
 "metadata": {
  "kernelspec": {
   "display_name": "Python 3 (ipykernel)",
   "language": "python",
   "name": "python3"
  },
  "language_info": {
   "codemirror_mode": {
    "name": "ipython",
    "version": 3
   },
   "file_extension": ".py",
   "mimetype": "text/x-python",
   "name": "python",
   "nbconvert_exporter": "python",
   "pygments_lexer": "ipython3",
   "version": "3.8.10"
  }
 },
 "nbformat": 4,
 "nbformat_minor": 5
}
