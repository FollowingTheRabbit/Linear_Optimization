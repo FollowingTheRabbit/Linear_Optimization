{
 "cells": [
  {
   "cell_type": "code",
   "execution_count": 1,
   "metadata": {},
   "outputs": [],
   "source": [
    "import pyomo.environ as pyo\n",
    "import random"
   ]
  },
  {
   "cell_type": "code",
   "execution_count": 2,
   "metadata": {},
   "outputs": [],
   "source": [
    "path_solver = '../solvers/glpk-4.65/w64/glpsol.exe'\n",
    "path_solver = '../solvers/cbc.exe'"
   ]
  },
  {
   "cell_type": "code",
   "execution_count": 3,
   "metadata": {},
   "outputs": [
    {
     "data": {
      "text/plain": [
       "[[173, 201, 172, 116, 132, 250, 191, 230, 286, 286, 274, 135, 238],\n",
       " [161, 240, 299, 276, 219, 242, 177, 278, 196, 131, 211, 125, 223],\n",
       " [209, 279, 162, 254, 259, 156, 158, 284, 273, 250, 166, 221, 246],\n",
       " [197, 240, 162, 218, 150, 248, 114, 227, 241, 165, 164, 139, 292],\n",
       " [246, 128, 104, 225, 159, 296, 136, 125, 130, 143, 105, 208, 241],\n",
       " [257, 109, 259, 120, 101, 170, 165, 267, 171, 300, 184, 164, 281],\n",
       " [189, 238, 244, 163, 141, 110, 270, 218, 167, 202, 192, 142, 112],\n",
       " [244, 134, 275, 284, 139, 229, 264, 258, 156, 181, 137, 272, 157],\n",
       " [214, 299, 130, 110, 261, 152, 205, 164, 134, 210, 151, 287, 110],\n",
       " [249, 194, 206, 270, 141, 180, 116, 166, 218, 254, 160, 274, 154],\n",
       " [286, 153, 117, 261, 198, 166, 210, 149, 216, 107, 190, 292, 222],\n",
       " [200, 216, 240, 263, 104, 150, 238, 242, 220, 240, 159, 282, 212],\n",
       " [290, 182, 113, 227, 224, 181, 198, 228, 151, 155, 211, 245, 132],\n",
       " [276, 269, 129, 290, 271, 288, 284, 194, 189, 274, 266, 217, 245],\n",
       " [241, 251, 179, 227, 177, 258, 202, 296, 170, 145, 226, 177, 248],\n",
       " [254, 169, 184, 290, 121, 250, 287, 280, 278, 131, 116, 241, 221],\n",
       " [158, 205, 147, 179, 201, 191, 259, 115, 234, 190, 184, 167, 236],\n",
       " [206, 207, 261, 153, 102, 296, 168, 109, 130, 178, 284, 152, 119],\n",
       " [116, 223, 156, 163, 173, 128, 253, 103, 267, 287, 186, 139, 160],\n",
       " [157, 259, 272, 104, 157, 173, 292, 243, 178, 143, 144, 223, 199],\n",
       " [230, 272, 136, 116, 277, 138, 144, 293, 105, 192, 182, 246, 277],\n",
       " [247, 169, 182, 178, 258, 129, 197, 140, 245, 204, 283, 133, 240],\n",
       " [174, 154, 285, 146, 239, 238, 263, 300, 246, 266, 230, 156, 276]]"
      ]
     },
     "execution_count": 3,
     "metadata": {},
     "output_type": "execute_result"
    }
   ],
   "source": [
    "demandas = [random.randint(10, 50) for d in range(13)]\n",
    "capacidades = [random.randint(10, 50) for d in range(23)]\n",
    "custo_fixo = [random.randint(400, 1000) for d in range(23)]\n",
    "c = []\n",
    "n_clientes = len(demandas)\n",
    "n_fabricas = len(capacidades)\n",
    "\n",
    "for i in range(len(capacidades)):\n",
    "    cj = []\n",
    "    for j in range(len(demandas)):\n",
    "        cj.append(random.randint(100,300))    \n",
    "    c.append(cj)\n",
    "c\n"
   ]
  },
  {
   "cell_type": "code",
   "execution_count": 4,
   "metadata": {},
   "outputs": [
    {
     "data": {
      "text/plain": [
       "(14, 375)"
      ]
     },
     "execution_count": 4,
     "metadata": {},
     "output_type": "execute_result"
    }
   ],
   "source": [
    "capacidades[2], sum(demandas)"
   ]
  },
  {
   "cell_type": "code",
   "execution_count": 5,
   "metadata": {},
   "outputs": [
    {
     "data": {
      "text/plain": [
       "[41,\n",
       " 33,\n",
       " 14,\n",
       " 20,\n",
       " 23,\n",
       " 47,\n",
       " 36,\n",
       " 38,\n",
       " 26,\n",
       " 17,\n",
       " 33,\n",
       " 18,\n",
       " 13,\n",
       " 49,\n",
       " 28,\n",
       " 37,\n",
       " 21,\n",
       " 24,\n",
       " 14,\n",
       " 25,\n",
       " 36,\n",
       " 26,\n",
       " 43]"
      ]
     },
     "execution_count": 5,
     "metadata": {},
     "output_type": "execute_result"
    }
   ],
   "source": [
    "c\n",
    "demandas\n",
    "capacidades"
   ]
  },
  {
   "cell_type": "code",
   "execution_count": 6,
   "metadata": {},
   "outputs": [],
   "source": [
    "model = pyo.ConcreteModel()"
   ]
  },
  {
   "cell_type": "code",
   "execution_count": 7,
   "metadata": {},
   "outputs": [],
   "source": [
    "model.I = pyo.RangeSet(n_fabricas)\n",
    "model.J = pyo.RangeSet(n_clientes)\n",
    "\n",
    "model.F = pyo.Param(model.I, initialize=lambda model, i: custo_fixo[i-1])\n",
    "model.A = pyo.Param(model.J, initialize=lambda model, j: demandas[j-1])\n",
    "model.B = pyo.Param(model.I, initialize=lambda model, i: capacidades[i-1])\n",
    "model.C = pyo.Param(model.I, model.J, initialize=lambda model, i, j: c[i-1][j-1])\n"
   ]
  },
  {
   "cell_type": "code",
   "execution_count": 8,
   "metadata": {},
   "outputs": [
    {
     "name": "stdout",
     "output_type": "stream",
     "text": [
      "A : Size=13, Index=J, Domain=Any, Default=None, Mutable=False\n",
      "    Key : Value\n",
      "      1 :    33\n",
      "      2 :    14\n",
      "      3 :    44\n",
      "      4 :    42\n",
      "      5 :    10\n",
      "      6 :    26\n",
      "      7 :    18\n",
      "      8 :    38\n",
      "      9 :    17\n",
      "     10 :    45\n",
      "     11 :    37\n",
      "     12 :    38\n",
      "     13 :    13\n",
      "B : Size=23, Index=I, Domain=Any, Default=None, Mutable=False\n",
      "    Key : Value\n",
      "      1 :    41\n",
      "      2 :    33\n",
      "      3 :    14\n",
      "      4 :    20\n",
      "      5 :    23\n",
      "      6 :    47\n",
      "      7 :    36\n",
      "      8 :    38\n",
      "      9 :    26\n",
      "     10 :    17\n",
      "     11 :    33\n",
      "     12 :    18\n",
      "     13 :    13\n",
      "     14 :    49\n",
      "     15 :    28\n",
      "     16 :    37\n",
      "     17 :    21\n",
      "     18 :    24\n",
      "     19 :    14\n",
      "     20 :    25\n",
      "     21 :    36\n",
      "     22 :    26\n",
      "     23 :    43\n"
     ]
    },
    {
     "data": {
      "text/plain": [
       "(375, 662)"
      ]
     },
     "execution_count": 8,
     "metadata": {},
     "output_type": "execute_result"
    }
   ],
   "source": [
    "model.A.pprint()\n",
    "sum(model.A.values())\n",
    "\n",
    "model.B.pprint()\n",
    "sum(model.A.values()),sum(model.B.values())"
   ]
  },
  {
   "cell_type": "code",
   "execution_count": 9,
   "metadata": {},
   "outputs": [],
   "source": [
    "model.X = pyo.Var(model.I, model.J, within=pyo.NonNegativeIntegers)\n",
    "model.Y = pyo.Var(model.I, within=pyo.NonNegativeIntegers)"
   ]
  },
  {
   "cell_type": "code",
   "execution_count": 10,
   "metadata": {},
   "outputs": [],
   "source": [
    "def Objt(model):\n",
    "    return pyo.summation(model.F, model.Y) + pyo.summation(model.C,model.X) \n",
    "    #return sum(model.F[i]*model.Y[i] for i in model.I)# + pyo.summation(model.C,model.X) \n",
    "    #return sum(sum(model.C[i,j] for j in model.J)*model.Y[i] for i in model.I)\n",
    "\n",
    "model.objetivo = pyo.Objective(rule=Objt, sense=pyo.minimize)"
   ]
  },
  {
   "cell_type": "code",
   "execution_count": 11,
   "metadata": {},
   "outputs": [],
   "source": [
    "def rest_dem_cap(model,i):\n",
    "    return sum(model.A[j]*model.X[i,j] for j in model.J) <= model.B[i]\n",
    "\n",
    "def rest_cols(model,j):\n",
    "    return sum(model.X[i,j] for i in model.I) == 1\n",
    "\n",
    "def rest_cost_fix(model, i, j):\n",
    "    return model.X[i,j]<=model.Y[i]\n",
    "\n",
    "def rule_mochila(model):\n",
    "    return sum(sum(model.C[i,j] for j in model.J)*model.Y[i] for i in model.I) <= 1500\n",
    "#model.M = pyo.Constraint(rule=rule_mochila)\n",
    "\n",
    "model.R1 = pyo.Constraint(model.I, rule=rest_dem_cap)\n",
    "model.R2 = pyo.Constraint(model.J, rule=rest_cols)\n",
    "model.R3 = pyo.Constraint(model.I, model.J, rule=rest_cost_fix)"
   ]
  },
  {
   "cell_type": "code",
   "execution_count": 12,
   "metadata": {},
   "outputs": [
    {
     "name": "stdout",
     "output_type": "stream",
     "text": [
      "F : Size=23, Index=I, Domain=Any, Default=None, Mutable=False\n",
      "    Key : Value\n",
      "      1 :   436\n",
      "      2 :   458\n",
      "      3 :   801\n",
      "      4 :   903\n",
      "      5 :   827\n",
      "      6 :   472\n",
      "      7 :   862\n",
      "      8 :   531\n",
      "      9 :   457\n",
      "     10 :   961\n",
      "     11 :   428\n",
      "     12 :   458\n",
      "     13 :   944\n",
      "     14 :   855\n",
      "     15 :   479\n",
      "     16 :   680\n",
      "     17 :   453\n",
      "     18 :   473\n",
      "     19 :   530\n",
      "     20 :   680\n",
      "     21 :   487\n",
      "     22 :   929\n",
      "     23 :   515\n"
     ]
    }
   ],
   "source": [
    "#model.R1.pprint()\n",
    "#model.R2.pprint()\n",
    "#model.R3.pprint()\n",
    "#model.M.pprint()\n",
    "model.F.pprint()"
   ]
  },
  {
   "cell_type": "code",
   "execution_count": 13,
   "metadata": {},
   "outputs": [
    {
     "data": {
      "text/plain": [
       "('Facilities.lp', 2389264321456)"
      ]
     },
     "execution_count": 13,
     "metadata": {},
     "output_type": "execute_result"
    }
   ],
   "source": [
    "model.write('Facilities.lp', io_options={'symbolic_solver_labels':True})"
   ]
  },
  {
   "cell_type": "code",
   "execution_count": 14,
   "metadata": {},
   "outputs": [],
   "source": [
    "solver = pyo.SolverFactory('cbc', executable=path_solver)\n",
    "sol = solver.solve(model, tee=False)"
   ]
  },
  {
   "cell_type": "code",
   "execution_count": 15,
   "metadata": {},
   "outputs": [
    {
     "data": {
      "text/plain": [
       "7812.0"
      ]
     },
     "execution_count": 15,
     "metadata": {},
     "output_type": "execute_result"
    }
   ],
   "source": [
    "model.objetivo()"
   ]
  },
  {
   "cell_type": "code",
   "execution_count": 19,
   "metadata": {},
   "outputs": [
    {
     "name": "stdout",
     "output_type": "stream",
     "text": [
      "1.0 1.0 0.0 0.0 0.0 1.0 0.0 1.0 1.0 0.0 1.0 0.0 0.0 1.0 0.0 1.0 0.0 1.0 0.0 0.0 1.0 0.0 1.0 "
     ]
    }
   ],
   "source": [
    "for i in model.I:\n",
    "    print(model.Y[i](), end=\" \")"
   ]
  },
  {
   "cell_type": "code",
   "execution_count": 16,
   "metadata": {},
   "outputs": [
    {
     "name": "stdout",
     "output_type": "stream",
     "text": [
      "0.0 0.0 0.0 0.0 0.0 0.0 0.0 0.0 0.0 0.0 0.0 1.0 0.0 \n",
      "1.0 0.0 0.0 0.0 0.0 0.0 0.0 0.0 0.0 0.0 0.0 0.0 0.0 \n",
      "0.0 0.0 0.0 0.0 0.0 0.0 0.0 0.0 0.0 0.0 0.0 0.0 0.0 \n",
      "0.0 0.0 0.0 0.0 0.0 0.0 0.0 0.0 0.0 0.0 0.0 0.0 0.0 \n",
      "0.0 0.0 0.0 0.0 0.0 0.0 0.0 0.0 0.0 0.0 0.0 0.0 0.0 \n",
      "0.0 0.0 0.0 0.0 0.0 0.0 0.0 0.0 0.0 1.0 0.0 0.0 0.0 \n",
      "0.0 0.0 0.0 0.0 0.0 0.0 0.0 0.0 0.0 0.0 0.0 0.0 0.0 \n",
      "0.0 0.0 0.0 0.0 0.0 0.0 0.0 1.0 0.0 0.0 0.0 0.0 0.0 \n",
      "0.0 0.0 0.0 0.0 0.0 1.0 0.0 0.0 0.0 0.0 0.0 0.0 0.0 \n",
      "0.0 0.0 0.0 0.0 0.0 0.0 0.0 0.0 0.0 0.0 0.0 0.0 0.0 \n",
      "0.0 1.0 0.0 0.0 0.0 0.0 0.0 0.0 0.0 0.0 0.0 0.0 0.0 \n",
      "0.0 0.0 0.0 0.0 0.0 0.0 0.0 0.0 0.0 0.0 0.0 0.0 0.0 \n",
      "0.0 0.0 0.0 0.0 0.0 0.0 0.0 0.0 0.0 0.0 0.0 0.0 0.0 \n",
      "0.0 0.0 1.0 0.0 0.0 0.0 0.0 0.0 0.0 0.0 0.0 0.0 0.0 \n",
      "0.0 0.0 0.0 0.0 0.0 0.0 0.0 0.0 0.0 0.0 0.0 0.0 0.0 \n",
      "0.0 0.0 0.0 0.0 0.0 0.0 0.0 0.0 0.0 0.0 1.0 0.0 0.0 \n",
      "0.0 0.0 0.0 0.0 0.0 0.0 0.0 0.0 0.0 0.0 0.0 0.0 0.0 \n",
      "0.0 0.0 0.0 0.0 1.0 0.0 0.0 0.0 0.0 0.0 0.0 0.0 1.0 \n",
      "0.0 0.0 0.0 0.0 0.0 0.0 0.0 0.0 0.0 0.0 0.0 0.0 0.0 \n",
      "0.0 0.0 0.0 0.0 0.0 0.0 0.0 0.0 0.0 0.0 0.0 0.0 0.0 \n",
      "0.0 0.0 0.0 0.0 0.0 0.0 1.0 0.0 1.0 0.0 0.0 0.0 0.0 \n",
      "0.0 0.0 0.0 0.0 0.0 0.0 0.0 0.0 0.0 0.0 0.0 0.0 0.0 \n",
      "0.0 0.0 0.0 1.0 0.0 0.0 0.0 0.0 0.0 0.0 0.0 0.0 0.0 \n"
     ]
    }
   ],
   "source": [
    "for i in model.I:\n",
    "    for j in model.J:\n",
    "#        print(i,j,\"-----\",modelo.X[i,j](), end='')\n",
    "        print(model.X[i,j](), end=' ')\n",
    "    print(\"\")"
   ]
  },
  {
   "cell_type": "code",
   "execution_count": 17,
   "metadata": {},
   "outputs": [
    {
     "name": "stdout",
     "output_type": "stream",
     "text": [
      "\n",
      "Problem: \n",
      "- Name: unknown\n",
      "  Lower bound: 7812.0\n",
      "  Upper bound: 7812.0\n",
      "  Number of objectives: 1\n",
      "  Number of constraints: 335\n",
      "  Number of variables: 322\n",
      "  Number of binary variables: 0\n",
      "  Number of integer variables: 322\n",
      "  Number of nonzeros: 322\n",
      "  Sense: minimize\n",
      "Solver: \n",
      "- Status: ok\n",
      "  User time: -1.0\n",
      "  System time: 0.9\n",
      "  Wallclock time: 0.9\n",
      "  Termination condition: optimal\n",
      "  Termination message: Model was solved to optimality (subject to tolerances), and an optimal solution is available.\n",
      "  Statistics: \n",
      "    Branch and bound: \n",
      "      Number of bounded subproblems: 12\n",
      "      Number of created subproblems: 12\n",
      "    Black box: \n",
      "      Number of iterations: 3156\n",
      "  Error rc: 0\n",
      "  Time: 1.2636103630065918\n",
      "Solution: \n",
      "- number of solutions: 0\n",
      "  number of solutions displayed: 0\n",
      "\n"
     ]
    }
   ],
   "source": [
    "print(sol)"
   ]
  },
  {
   "cell_type": "code",
   "execution_count": null,
   "metadata": {},
   "outputs": [],
   "source": []
  }
 ],
 "metadata": {
  "kernelspec": {
   "display_name": "Python 3",
   "language": "python",
   "name": "python3"
  },
  "language_info": {
   "codemirror_mode": {
    "name": "ipython",
    "version": 3
   },
   "file_extension": ".py",
   "mimetype": "text/x-python",
   "name": "python",
   "nbconvert_exporter": "python",
   "pygments_lexer": "ipython3",
   "version": "3.8.10"
  },
  "orig_nbformat": 4
 },
 "nbformat": 4,
 "nbformat_minor": 2
}
